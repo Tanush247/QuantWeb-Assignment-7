{
 "cells": [
  {
   "cell_type": "code",
   "execution_count": 1,
   "id": "ceaf6655",
   "metadata": {},
   "outputs": [],
   "source": [
    "import numpy as np\n",
    "import pandas as pd\n",
    "import matplotlib.pyplot as plt"
   ]
  },
  {
   "cell_type": "code",
   "execution_count": 14,
   "id": "da1b2bfd",
   "metadata": {},
   "outputs": [],
   "source": [
    "class Animal:\n",
    "    def __init__(self,name,age):\n",
    "        self.name=name\n",
    "        self.age=age\n",
    "    def speak_name(self):\n",
    "        print(\"Hi my name is\", self.name)\n",
    "    def speak_age(self):\n",
    "        print(\"Hi i am\", self.age, \"years old\")  "
   ]
  },
  {
   "cell_type": "code",
   "execution_count": 16,
   "id": "92ea0f20",
   "metadata": {},
   "outputs": [
    {
     "name": "stdout",
     "output_type": "stream",
     "text": [
      "Hi my name is Tommy\n",
      "Hi i am {5} years old\n"
     ]
    }
   ],
   "source": [
    "dog=Animal(\"Tommy\",5)\n",
    "(dog.speak_name())\n",
    "(dog.speak_age())"
   ]
  },
  {
   "cell_type": "code",
   "execution_count": 17,
   "id": "80d3ed08",
   "metadata": {},
   "outputs": [
    {
     "ename": "SyntaxError",
     "evalue": "incomplete input (673236066.py, line 2)",
     "output_type": "error",
     "traceback": [
      "\u001b[1;36m  Cell \u001b[1;32mIn[17], line 2\u001b[1;36m\u001b[0m\n\u001b[1;33m    def __init(self,capital,stop_loss=0.01):\u001b[0m\n\u001b[1;37m                                            ^\u001b[0m\n\u001b[1;31mSyntaxError\u001b[0m\u001b[1;31m:\u001b[0m incomplete input\n"
     ]
    }
   ],
   "source": [
    "class backtesting():\n",
    "    # trailign stop loss and normal stop loss\n",
    "    def __init(self,data,capital,stop_loss=0.01):\n",
    "        self.capital=capital\n",
    "        self.trailing_stop_loss_percent=0.01\n",
    "        self.normal_stop_loss_percent=0.01\n",
    "        self.trailing_stop_loss=(1-stop_loss_percent)*capital\n",
    "        self.current=0\n",
    "        self.data=data\n",
    "    def check_exit_condition(self):\n",
    "        self.capital<self.trailing_stop_loss:\n",
    "            #trade exit\n",
    "            self.current=0\n",
    "        self.captial<self.normal_stop_loss:\n",
    "            \n",
    "    def backtesting(self):\n",
    "        for i in range(self.data):\n",
    "            if(self.current==1):\n",
    "                #check exit condition"
   ]
  },
  {
   "cell_type": "code",
   "execution_count": null,
   "id": "57a0a417",
   "metadata": {},
   "outputs": [],
   "source": []
  }
 ],
 "metadata": {
  "kernelspec": {
   "display_name": "Python 3 (ipykernel)",
   "language": "python",
   "name": "python3"
  },
  "language_info": {
   "codemirror_mode": {
    "name": "ipython",
    "version": 3
   },
   "file_extension": ".py",
   "mimetype": "text/x-python",
   "name": "python",
   "nbconvert_exporter": "python",
   "pygments_lexer": "ipython3",
   "version": "3.10.9"
  }
 },
 "nbformat": 4,
 "nbformat_minor": 5
}
